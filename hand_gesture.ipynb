{
 "cells": [
  {
   "cell_type": "code",
   "execution_count": 31,
   "metadata": {},
   "outputs": [],
   "source": [
    "from include import *\n",
    "from sklearn.model_selection import train_test_split\n",
    "from keras.models import Sequential\n",
    "from keras.layers import Dense\n",
    "import GPyOpt"
   ]
  },
  {
   "cell_type": "markdown",
   "metadata": {},
   "source": [
    "data is from https://www.kaggle.com/ashish8898/hand-gestures code is modified from  https://machinelearningmastery.com/5-step-life-cycle-neural-network-models-keras/ and http://krasserm.github.io/2018/03/21/bayesian-optimization/"
   ]
  },
  {
   "cell_type": "code",
   "execution_count": 2,
   "metadata": {},
   "outputs": [],
   "source": [
    "# load data\n",
    "df = []\n",
    "for i in range(4):\n",
    "    t = np.loadtxt(\"data/emg-4/{}.csv\".format(i), delimiter=',')\n",
    "    t = pd.DataFrame(t)\n",
    "    t['gesture'] = i\n",
    "    df.append(t)\n",
    "df = pd.concat(df).reset_index(drop=True)\n",
    "# creatue dummy variables\n",
    "df = pd.merge(df, pd.get_dummies(df['gesture'], drop_first=True, prefix='g'), left_index=True, right_index=True)"
   ]
  },
  {
   "cell_type": "code",
   "execution_count": 3,
   "metadata": {},
   "outputs": [],
   "source": [
    "# data splitting\n",
    "X = df.iloc[:, :65].values\n",
    "y = df.iloc[:, -3:].values\n",
    "X_tr, X_te, y_tr, y_te = train_test_split(X, y, test_size=0.25)"
   ]
  },
  {
   "cell_type": "code",
   "execution_count": 4,
   "metadata": {},
   "outputs": [],
   "source": [
    "# construct a neural network\n",
    "model = Sequential()\n",
    "model.add(Dense(30, input_dim=65, activation='relu'))\n",
    "model.add(Dense(10, activation='relu'))\n",
    "model.add(Dense(3, activation='sigmoid'))"
   ]
  },
  {
   "cell_type": "code",
   "execution_count": 16,
   "metadata": {},
   "outputs": [],
   "source": [
    "# define domains of parameters to tune\n",
    "domain = [{'name': 'epochs', 'type': 'discrete', 'domain': range(50)},\n",
    "          {'name': 'batch_size', 'type': 'discrete', 'domain': range(1000)}]"
   ]
  },
  {
   "cell_type": "code",
   "execution_count": 24,
   "metadata": {},
   "outputs": [],
   "source": [
    "# define objective function\n",
    "def obj(parameters):\n",
    "    parameters = parameters[0]\n",
    "    epochs, batch_size = parameters\n",
    "    X_tr1, X_tr2, y_tr1, y_tr2 = train_test_split(X_tr, y_tr, test_size=0.25)\n",
    "    model.compile(loss='binary_crossentropy', optimizer='adam', metrics=['accuracy'])\n",
    "    model.fit(X_tr1, y_tr1, epochs=int(epochs), batch_size=int(batch_size), verbose=0)\n",
    "    scores = model.evaluate(X_tr2, y_tr2)\n",
    "    return scores[0]"
   ]
  },
  {
   "cell_type": "code",
   "execution_count": 25,
   "metadata": {},
   "outputs": [
    {
     "name": "stdout",
     "output_type": "stream",
     "text": [
      "2190/2190 [==============================] - 1s 379us/step\n",
      "2190/2190 [==============================] - 1s 389us/step\n",
      "2190/2190 [==============================] - 1s 408us/step\n",
      "2190/2190 [==============================] - 1s 399us/step\n",
      "2190/2190 [==============================] - 1s 399us/step\n"
     ]
    }
   ],
   "source": [
    "# initialize an optimizer\n",
    "opt = GPyOpt.methods.BayesianOptimization(f=obj, domain=domain, verbosity=0)"
   ]
  },
  {
   "cell_type": "code",
   "execution_count": 26,
   "metadata": {},
   "outputs": [
    {
     "name": "stdout",
     "output_type": "stream",
     "text": [
      "2190/2190 [==============================] - 1s 408us/step\n",
      "2190/2190 [==============================] - 1s 420us/step\n",
      "2190/2190 [==============================] - 1s 423us/step\n",
      "2190/2190 [==============================] - 3s 1ms/step\n",
      "2190/2190 [==============================] - 1s 441us/step\n",
      "2190/2190 [==============================] - 1s 458us/step\n",
      "2190/2190 [==============================] - 1s 463us/step\n",
      "2190/2190 [==============================] - 1s 469us/step\n",
      "2190/2190 [==============================] - 1s 500us/step\n",
      "2190/2190 [==============================] - 1s 493us/step\n",
      "2190/2190 [==============================] - 1s 489us/step\n",
      "2190/2190 [==============================] - 1s 508us/step\n",
      "2190/2190 [==============================] - 1s 513us/step\n",
      "2190/2190 [==============================] - 1s 525us/step\n",
      "2190/2190 [==============================] - 1s 547us/step\n",
      "2190/2190 [==============================] - 1s 552us/step\n",
      "2190/2190 [==============================] - 1s 566us/step\n",
      "2190/2190 [==============================] - 1s 564us/step\n",
      "2190/2190 [==============================] - 1s 561us/step\n",
      "2190/2190 [==============================] - 1s 628us/step\n",
      "2190/2190 [==============================] - 1s 626us/step\n",
      "2190/2190 [==============================] - 1s 612us/step\n",
      "2190/2190 [==============================] - 1s 610us/step\n",
      "2190/2190 [==============================] - 1s 638us/step\n",
      "2190/2190 [==============================] - 1s 658us/step\n",
      "2190/2190 [==============================] - 1s 612us/step\n",
      "2190/2190 [==============================] - 1s 590us/step\n"
     ]
    }
   ],
   "source": [
    "# run optimizer\n",
    "opt.run_optimization(max_iter=50, max_time=1200)"
   ]
  },
  {
   "cell_type": "code",
   "execution_count": 27,
   "metadata": {},
   "outputs": [
    {
     "data": {
      "image/png": "[encoded data removed]",
      "text/plain": [
       "<matplotlib.figure.Figure at 0x12e3becc0>"
      ]
     },
     "metadata": {},
     "output_type": "display_data"
    }
   ],
   "source": [
    "opt.plot_convergence()"
   ]
  },
  {
   "cell_type": "code",
   "execution_count": 36,
   "metadata": {},
   "outputs": [
    {
     "name": "stdout",
     "output_type": "stream",
     "text": [
      "best epochs = 43, best batch_size = 661\n"
     ]
    }
   ],
   "source": [
    "print('best epochs = {}, best batch_size = {}'.format(int(opt.x_opt[0]), int(opt.x_opt[1])))"
   ]
  },
  {
   "cell_type": "code",
   "execution_count": 28,
   "metadata": {},
   "outputs": [
    {
     "data": {
      "text/plain": [
       "<keras.callbacks.History at 0x138339cc0>"
      ]
     },
     "execution_count": 28,
     "metadata": {},
     "output_type": "execute_result"
    }
   ],
   "source": [
    "# fit the best model\n",
    "model.fit(X_tr, y_tr, epochs=int(opt.x_opt[0]), batch_size=int(opt.x_opt[1]), verbose=0) "
   ]
  },
  {
   "cell_type": "code",
   "execution_count": 29,
   "metadata": {},
   "outputs": [
    {
     "name": "stdout",
     "output_type": "stream",
     "text": [
      "2920/2920 [==============================] - 0s 87us/step\n"
     ]
    }
   ],
   "source": [
    "# aggregate score on testing set\n",
    "scores = model.evaluate(X_te, y_te)"
   ]
  },
  {
   "cell_type": "code",
   "execution_count": 30,
   "metadata": {},
   "outputs": [
    {
     "name": "stdout",
     "output_type": "stream",
     "text": [
      "acc: 97.6484%\n"
     ]
    }
   ],
   "source": [
    "print(\"{}: {:.4f}%\".format(model.metrics_names[1], scores[1]*100.0))"
   ]
  },
  {
   "cell_type": "code",
   "execution_count": null,
   "metadata": {},
   "outputs": [],
   "source": []
  }
 ],
 "metadata": {
  "kernelspec": {
   "display_name": "Python 3",
   "language": "python",
   "name": "python3"
  },
  "language_info": {
   "codemirror_mode": {
    "name": "ipython",
    "version": 3
   },
   "file_extension": ".py",
   "mimetype": "text/x-python",
   "name": "python",
   "nbconvert_exporter": "python",
   "pygments_lexer": "ipython3",
   "version": "3.6.4"
  }
 },
 "nbformat": 4,
 "nbformat_minor": 2
}
